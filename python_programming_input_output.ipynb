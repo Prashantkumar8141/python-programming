{
  "nbformat": 4,
  "nbformat_minor": 0,
  "metadata": {
    "colab": {
      "provenance": []
    },
    "kernelspec": {
      "name": "python3",
      "display_name": "Python 3"
    },
    "language_info": {
      "name": "python"
    }
  },
  "cells": [
    {
      "cell_type": "markdown",
      "source": [
        "# **1. Write a code to get the input in the given format and print the output in the given format.**\n",
        "\n",
        "Input Description:\n",
        "\n",
        "\n",
        "A single line contains a string.\n",
        "\n",
        "Output Description:\n",
        "\n",
        "Print the characters in a string separated by comma.\n",
        "\n",
        "Sample Input :\n",
        "guvi\n",
        "\n",
        "Sample Output :\n",
        "g,u,v,i"
      ],
      "metadata": {
        "id": "wbzSh8J7h4K5"
      }
    },
    {
      "cell_type": "code",
      "execution_count": 1,
      "metadata": {
        "colab": {
          "base_uri": "https://localhost:8080/"
        },
        "id": "27Wn4scFhtNb",
        "outputId": "03f07401-8526-4e42-ecb3-cd0cd16d8092"
      },
      "outputs": [
        {
          "output_type": "stream",
          "name": "stdout",
          "text": [
            "guvi\n",
            "g,u,v,i\n"
          ]
        }
      ],
      "source": [
        "a = input()\n",
        "b = len(a)\n",
        "for i in range (0,b-1):\n",
        "    print(a[i]+\",\",end=\"\")\n",
        "print(a[b-1])\n",
        "\n",
        "   "
      ]
    },
    {
      "cell_type": "markdown",
      "source": [
        "# **2. Write a code to get the input in the given format and print the output in the given format.**\n",
        "\n",
        "Input Description:\n",
        "\n",
        "A single line contains a string.\n",
        "\n",
        "Output Description:\n",
        "\n",
        "Print the characters in a string separated by line.\n",
        "\n",
        "Sample Input :\n",
        "guvigeek\n",
        "\n",
        "Sample Output :\n",
        "\n",
        "g\n",
        "\n",
        "u\n",
        "\n",
        "v\n",
        "\n",
        "i\n",
        "\n",
        "g\n",
        "\n",
        "e\n",
        "\n",
        "e\n",
        "\n",
        "k"
      ],
      "metadata": {
        "id": "UXGvlMW9nr0J"
      }
    },
    {
      "cell_type": "code",
      "source": [
        "a = input()\n",
        "for i in a:\n",
        "    print(i)"
      ],
      "metadata": {
        "colab": {
          "base_uri": "https://localhost:8080/"
        },
        "id": "GE4qvMu1maiG",
        "outputId": "b0952113-b41c-4e3e-ddee-ebe657ff0138"
      },
      "execution_count": 11,
      "outputs": [
        {
          "output_type": "stream",
          "name": "stdout",
          "text": [
            "guvigeek\n",
            "g\n",
            "u\n",
            "v\n",
            "i\n",
            "g\n",
            "e\n",
            "e\n",
            "k\n"
          ]
        }
      ]
    }
  ]
}