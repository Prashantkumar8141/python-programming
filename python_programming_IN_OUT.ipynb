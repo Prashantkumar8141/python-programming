{
  "nbformat": 4,
  "nbformat_minor": 0,
  "metadata": {
    "colab": {
      "provenance": []
    },
    "kernelspec": {
      "name": "python3",
      "display_name": "Python 3"
    },
    "language_info": {
      "name": "python"
    }
  },
  "cells": [
    {
      "cell_type": "markdown",
      "source": [
        "1 **Write a code to get the input in the given format and print the output in the given format.**\n",
        "\n",
        "Input Description:\n",
        "\n",
        "A single line contains three float values separated by space.\n",
        "\n",
        "Output Description:\n",
        "\n",
        "Print the float value separated by line.\n",
        "\n",
        "Sample Input :\n",
        "\n",
        "**2.3 4.5 7.8**\n",
        "\n",
        "Sample Output :\n",
        "\n",
        "**2.3**\n",
        "\n",
        "**4.5**\n",
        "\n",
        "**7.8**"
      ],
      "metadata": {
        "id": "1MzQFQv0J_sd"
      }
    },
    {
      "cell_type": "code",
      "source": [
        "a=list(map(float,input().split()))\n",
        "for i in a:\n",
        "    print(i)"
      ],
      "metadata": {
        "colab": {
          "base_uri": "https://localhost:8080/"
        },
        "id": "3o42_9yZKSpz",
        "outputId": "98f9cd1f-f835-4863-8b33-1a779c4695fc"
      },
      "execution_count": 1,
      "outputs": [
        {
          "output_type": "stream",
          "name": "stdout",
          "text": [
            "2.3 4.5 7.8\n",
            "2.3\n",
            "4.5\n",
            "7.8\n"
          ]
        }
      ]
    },
    {
      "cell_type": "markdown",
      "source": [
        "2. **Write a code to get the input in the given format and print the output in the given format**\n",
        "\n",
        "Input Description:\n",
        "\n",
        "First-line indicates two integers separated by space. Second-line indicates three integers separated by space. Third-line indicates three integers separated by space\n",
        "\n",
        "Output Description:\n",
        "\n",
        "Print the input in the same format.\n",
        "\n",
        "Sample Input :\n",
        "\n",
        "**2 5**\n",
        "\n",
        "**2 5 6**\n",
        "\n",
        "**2 4 5**\n",
        "\n",
        "Sample Output :\n",
        "\n",
        "**2 5**\n",
        "\n",
        "**2 5 6**\n",
        "\n",
        "**2 4 5**"
      ],
      "metadata": {
        "id": "VS8q_OC9Kj-i"
      }
    },
    {
      "cell_type": "code",
      "source": [
        "a=list(map(int,input().split()))\n",
        "b=list(map(int,input().split()))\n",
        "c=list(map(int,input().split()))\n",
        "list=(a,b,c)\n",
        "for i in list:\n",
        "    print(*i)"
      ],
      "metadata": {
        "colab": {
          "base_uri": "https://localhost:8080/"
        },
        "id": "yg3mcYbmKq9i",
        "outputId": "09577c1c-e2f4-4ada-b0c7-393aded9ca76"
      },
      "execution_count": 2,
      "outputs": [
        {
          "output_type": "stream",
          "name": "stdout",
          "text": [
            "2 5\n",
            "2 5 6\n",
            "2 4 5\n",
            "2 5\n",
            "2 5 6\n",
            "2 4 5\n"
          ]
        }
      ]
    }
  ]
}