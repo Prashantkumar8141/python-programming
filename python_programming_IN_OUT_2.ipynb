{
  "nbformat": 4,
  "nbformat_minor": 0,
  "metadata": {
    "colab": {
      "provenance": []
    },
    "kernelspec": {
      "name": "python3",
      "display_name": "Python 3"
    },
    "language_info": {
      "name": "python"
    }
  },
  "cells": [
    {
      "cell_type": "markdown",
      "source": [
        "**Write a code to get the input in the given format and print the output in the given format**\n",
        "\n",
        "Input Description:\n",
        "\n",
        "A single line contains integers separated by space\n",
        "\n",
        "Output Description:\n",
        "\n",
        "Print the integer list of integers separated by space\n",
        "\n",
        "Sample Input :\n",
        "\n",
        "**2 3 4 5 6 7 8**\n",
        "\n",
        "Sample Output :\n",
        "\n",
        "**2 3 4 5 6 7 8**"
      ],
      "metadata": {
        "id": "GnaADnBjhqcC"
      }
    },
    {
      "cell_type": "code",
      "source": [
        "x = list(map(int,input().split()))\n",
        "\n",
        "for i in range(0,len(x)-1):\n",
        "  print(x[i],end= \" \")\n",
        "  \n",
        "print(x[len(x)-1])\n"
      ],
      "metadata": {
        "colab": {
          "base_uri": "https://localhost:8080/"
        },
        "id": "8aKtQvMCiQCw",
        "outputId": "184ad1af-ff5d-40b1-d017-3d4fab8a33ea"
      },
      "execution_count": 36,
      "outputs": [
        {
          "output_type": "stream",
          "name": "stdout",
          "text": [
            "2 3 4 5 6 7 8\n",
            "2 3 4 5 6 7 8\n"
          ]
        }
      ]
    },
    {
      "cell_type": "code",
      "source": [
        "a= input()\n",
        "print(a)"
      ],
      "metadata": {
        "colab": {
          "base_uri": "https://localhost:8080/"
        },
        "id": "phlsD9CEmQY_",
        "outputId": "cac16886-753d-4d0d-af6f-2b90c7feae91"
      },
      "execution_count": 37,
      "outputs": [
        {
          "output_type": "stream",
          "name": "stdout",
          "text": [
            "2 3 4 5 6 7 8\n",
            "2 3 4 5 6 7 8\n"
          ]
        }
      ]
    },
    {
      "cell_type": "markdown",
      "source": [
        "**Write a code to get the input in the given format and print the output in the given format.**\n",
        "\n",
        "Input Description:\n",
        "\n",
        "First-line indicates two integers which are the size of array and 'K' value. Second-line indicates an integer contains elements of an array.\n",
        "\n",
        "Output Description:\n",
        "\n",
        "Print the taken input in the same format.\n",
        "\n",
        "Sample Input :\n",
        "\n",
        "**5 3**\n",
        "\n",
        "**1 2 3 4 5**\n",
        "\n",
        "Sample Output :\n",
        "\n",
        "**5 3**\n",
        "\n",
        "**1 2 3 4 5**"
      ],
      "metadata": {
        "id": "AekpbJJPth7d"
      }
    },
    {
      "cell_type": "code",
      "source": [
        "a,b=(input().split())\n",
        "c=list(map(int,input().split()[:int(a)]))\n",
        "print(a,b)\n",
        "print(*c,sep=\" \")\n"
      ],
      "metadata": {
        "colab": {
          "base_uri": "https://localhost:8080/"
        },
        "id": "3wRsqHPgnKB1",
        "outputId": "82a540a8-cc42-43e8-e283-763f0bb06f05"
      },
      "execution_count": 50,
      "outputs": [
        {
          "output_type": "stream",
          "name": "stdout",
          "text": [
            "5 3\n",
            "1 2 3 4 5 \n",
            "5 3\n",
            "1 2 3 4 5\n"
          ]
        }
      ]
    },
    {
      "cell_type": "code",
      "source": [
        "a= list(map(int,input().split()))\n",
        "b= input().split()\n",
        "print(*a)\n",
        "print(*b)"
      ],
      "metadata": {
        "colab": {
          "base_uri": "https://localhost:8080/"
        },
        "id": "e5jEh_dbudD3",
        "outputId": "dd3207b1-ec6d-49bd-a4dc-ec3bad8ff123"
      },
      "execution_count": 49,
      "outputs": [
        {
          "output_type": "stream",
          "name": "stdout",
          "text": [
            "5 3\n",
            "1 2 3 4 5\n",
            "5 3\n",
            "1 2 3 4 5\n"
          ]
        }
      ]
    }
  ]
}